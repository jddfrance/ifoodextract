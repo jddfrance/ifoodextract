{
  "nbformat": 4,
  "nbformat_minor": 0,
  "metadata": {
    "colab": {
      "name": "ifood beta.ipynb",
      "provenance": [],
      "collapsed_sections": [],
      "include_colab_link": true
    },
    "kernelspec": {
      "display_name": "Python 3",
      "name": "python3"
    },
    "language_info": {
      "name": "python"
    }
  },
  "cells": [
    {
      "cell_type": "markdown",
      "metadata": {
        "id": "view-in-github",
        "colab_type": "text"
      },
      "source": [
        "<a href=\"https://colab.research.google.com/github/jddfrance/ifoodextract/blob/main/ifood_extract_0.1.ipynb\" target=\"_parent\"><img src=\"https://colab.research.google.com/assets/colab-badge.svg\" alt=\"Open In Colab\"/></a>"
      ]
    },
    {
      "cell_type": "code",
      "metadata": {
        "id": "YvuSigIFVjDP"
      },
      "source": [
        "#Objetivo:\n",
        "#Obter os dados do ifood\n",
        "#Executar limpeza e formatação dos dados\n",
        "#Analisar promoções \n",
        "#Obter estatísticas de preço\n",
        "#Dividir por setor atendido\n",
        "#produzir gráficos com as informações obtidas "
      ],
      "execution_count": 10,
      "outputs": []
    },
    {
      "cell_type": "code",
      "metadata": {
        "id": "XzYCkPdTW0gT"
      },
      "source": [
        "import requests\n",
        "import json\n",
        "import urllib.request \n",
        "from urllib.request import urlopen, Request \n",
        "from urllib.error import URLError, HTTPError\n",
        "import requests\n",
        "from requests import Session\n",
        "from bs4 import BeautifulSoup \n",
        "import re \n",
        "from zipfile import ZipFile\n",
        "import ssl\n",
        "import pandas as pd"
      ],
      "execution_count": 2,
      "outputs": []
    },
    {
      "cell_type": "code",
      "metadata": {
        "id": "kTkSYBFSg6Sg",
        "colab": {
          "base_uri": "https://localhost:8080/"
        },
        "outputId": "7ff4af21-4358-41fe-8464-cb915a806d24"
      },
      "source": [
        "def trata_html(input): #tratamento do html pro bs4\n",
        "    return \" \".join(input.split()).replace('> <', '><') \n",
        "def get_prices(url, id):\n",
        "  url = str(url)\n",
        "  headers = {'User-Agent': 'Mozilla/5.0 (Windows NT 6.1; Win64; x64) AppleWebKit/537.36 (KHTML, like Gecko) Chrome/95.0.4638.69 Safari/537.36',}\n",
        "  try:\n",
        "    request = Request(url, headers = headers)\n",
        "    response = urlopen(request)\n",
        "  except HTTPError as e:\n",
        "    print(f'HTTPError on restaurant id: {id}')\n",
        "    return None\n",
        "  except URLError as e:\n",
        "    print(f'URLError on restaurant id: {id}')\n",
        "    return None\n",
        "  html = response.read()\n",
        "  html = html.decode('utf-8')\n",
        "  html = trata_html(html)\n",
        "  soup = BeautifulSoup(html, 'html.parser')\n",
        "  jsondata = json.loads(soup.find('script', {'id': \"__NEXT_DATA__\"}).getText())\n",
        "  pedidos = pd.json_normalize(jsondata)['props.initialState.restaurant.menu'][0]\n",
        "  subitem = pd.json_normalize(pedidos)\n",
        "  itemlist = []\n",
        "  for index, row in subitem.iterrows():\n",
        "    df = pd.json_normalize(row['itens'])\n",
        "    df['Grupo'] = row['name']\n",
        "    itemlist.append(df)\n",
        "  if itemlist:  #verifica se itemlist tem itens (true)\n",
        "    pricestats = (pd.concat(itemlist)\n",
        "        .describe()['unitMinPrice']\n",
        "        .to_frame()\n",
        "        .transpose())\n",
        "    pricestats['id'] = id\n",
        "    pricestats.set_index('id', inplace = True)\n",
        "  else:\n",
        "    return None\n",
        "  return pricestats\n",
        "\n",
        "\n",
        "def get_merchant(restaurant_id):\n",
        "  url = f\"https://marketplace.ifood.com.br/v1/merchants/{restaurant_id}/extra\"\n",
        "  headers = {'User-Agent': 'Mozilla/5.0 (Windows NT 6.1; Win64; x64) AppleWebKit/537.36 (KHTML, like Gecko) Chrome/95.0.4638.69 Safari/537.36', }\n",
        "  request = Request(url, headers = headers)\n",
        "  response = urlopen(request)\n",
        "  responseread = response.read()\n",
        "  merchant = pd.json_normalize(json.loads(responseread))\n",
        "  if merchant.shifts[0] == []:\n",
        "    return None\n",
        "  else:\n",
        "    name = merchant.name[0].replace(\" \", \"-\")\n",
        "    city = merchant['address.city'][0]\n",
        "    state = merchant['address.state'][0]\n",
        "    district = merchant['address.district'][0].replace(\" \", \"-\")\n",
        "    merchant['drop_target'] = None\n",
        "    merchant['link'] = f\"https://www.ifood.com.br/delivery/{city}-{state}/{name}-{district}/{restaurant_id}\"\n",
        "    if ('logo' in merchant):\n",
        "      merchant['logo'] = f\"https://static-images.ifood.com.br/image/upload/t_thumbnail/logosgde/{pd.json_normalize(merchant.resources[0]).fileName[0]}.jpg\"\n",
        "\n",
        "    merchant.drop(merchant.columns.to_series()[\"locale\":\"drop_target\"], axis=1, inplace= True)\n",
        "    dellist = ['shortId', 'companyCode',\n",
        "                'resources', 'enabled',\n",
        "                'tags', 'phoneIf',\n",
        "                'groups', 'features',\n",
        "                'priceRange', 'name',\n",
        "                'minimumOrderValue', 'deliveryTime',\n",
        "                'takeoutTime']\n",
        "    for item in dellist:\n",
        "      if (item in merchant):\n",
        "        merchant.drop(columns = item, inplace = True)\n",
        "\n",
        "    try:\n",
        "      filter = pd.json_normalize(merchant.categories[0]).description.to_list()\n",
        "      merchant.at[0,'categories'] = filter\n",
        "    except: \n",
        "      merchant.at[0,'categories'] = None\n",
        "    \n",
        "    headerslist = ['id', 'description',\n",
        "                    'shifts', 'categories', \n",
        "                    'userRatingCount']\n",
        "    for item in headerslist:\n",
        "      if not item in merchant.columns:\n",
        "        merchant[item] = None\n",
        "    shiftog = pd.json_normalize(merchant.shifts[0]).set_index('dayOfWeek')\n",
        "    start = pd.DataFrame(shiftog.loc[:,'start']\n",
        "                          .add_suffix('_start')\n",
        "                          .to_frame().groupby('dayOfWeek')['start']\n",
        "                          .sum()).transpose().reset_index(drop = True)\n",
        "    headerlist = ['FRIDAY_start', 'MONDAY_start',\n",
        "                  'SATURDAY_start', 'SUNDAY_start', \n",
        "                  'THURSDAY_start', 'TUESDAY_start',\n",
        "                  'WEDNESDAY_start']\n",
        "    for item in headerlist:\n",
        "      if not item in start.columns:\n",
        "        start[item] = None\n",
        "    duration = pd.DataFrame(shiftog.loc[:,'duration']\n",
        "                            .add_suffix('_duration')\n",
        "                            .to_frame().groupby('dayOfWeek')['duration']\n",
        "                            .sum()).transpose().reset_index(drop = True)\n",
        "    headerlist =  ['FRIDAY_duration', 'MONDAY_duration',\n",
        "                    'SATURDAY_duration', 'SUNDAY_duration', \n",
        "                    'THURSDAY_duration', 'TUESDAY_duration',\n",
        "                    'WEDNESDAY_duration']\n",
        "    for item in headerlist:\n",
        "      if not item in duration.columns:\n",
        "        duration[item] = 0\n",
        "\n",
        "    merchant = pd.concat([merchant, start, duration], axis = 1)\n",
        "    merchant.drop(columns = ['shifts', 'description'], inplace = True)\n",
        "    return merchant  \n",
        "   \n",
        "\n",
        "def get_rest(latitude, longitude, size = 300):\n",
        "    appendrest = []\n",
        "    for page in range(0, 10):\n",
        "      ssl._create_default_https_context = ssl._create_unverified_context\n",
        "      url = f\"https://marketplace.ifood.com.br/v1/merchants?latitude={latitude}&longitude={longitude}&channel=IFOOD&size={size}&page={page}\"\n",
        "      headers = {'User-Agent': 'Mozilla/5.0 (Windows NT 6.1; Win64; x64) AppleWebKit/537.36 (KHTML, like Gecko) Chrome/95.0.4638.69 Safari/537.36', }\n",
        "      request = Request(url, headers = headers)\n",
        "      response = urlopen(request)\n",
        "      responseread = response.read()\n",
        "      # Observando as dict_keys: \"total\" indica o numero de restaurantes na área, \n",
        "      #pode ser usado para nos ajudar a iterar pelas páginas, \n",
        "      #enquanto \"merchants\" contém uma lista informações sobre os restaurantes e \n",
        "      #\"facets\" dá um resumo das informações dos restaurantes.\n",
        "      ifoodjson = json.loads(responseread)\n",
        "      restaurantes = pd.DataFrame.from_dict(ifoodjson['merchants'])\n",
        "      maincat = pd.json_normalize(restaurantes['mainCategory'])\n",
        "      maincat.rename(columns = {'name' : 'type'}, inplace= True)\n",
        "      restaurantes = pd.concat([restaurantes, maincat], axis=1)\n",
        "      defee = pd.json_normalize(restaurantes['deliveryFee'])\n",
        "      restaurantes = pd.concat([restaurantes, defee.value], axis=1)\n",
        "      restaurantes.rename(columns = {'value' : 'deliveryValue'}, inplace=True)\n",
        "      dellist = ['mainCategory', 'paymentCodes',\n",
        "                 'contextSetup', 'deliveryFee',\n",
        "                  'resources', 'currency',\n",
        "                  'code','merchantChain',\n",
        "                  'available', 'slug',\n",
        "                  'features',]\n",
        "      for item in dellist:\n",
        "        if (item in restaurantes):\n",
        "          restaurantes.drop(columns = item, inplace = True)\n",
        "      restaurantes = restaurantes.set_index('id')\n",
        "      appendrest.append(restaurantes)\n",
        "      \n",
        "    restaurantes = pd.concat(appendrest)\n",
        "    restaurantes = restaurantes[(restaurantes['userRating'] != 5) & \n",
        "                                (restaurantes['userRating'] != 0)]    \n",
        "    return restaurantes\n",
        "\n",
        "\n",
        "def get_ifood(latitude, longitude, size = 300):\n",
        "  restaurantes = get_rest(latitude, longitude, size)\n",
        "  mercupdate = []\n",
        "  for item in restaurantes.index:\n",
        "    mercupdate.append(get_merchant(item))\n",
        "  merchant = pd.concat(mercupdate).set_index('id')\n",
        "  restaurantes = pd.concat([restaurantes, merchant], axis = 1)\n",
        "  prices = []\n",
        "  for index, row in restaurantes.iterrows(): \n",
        "    if not (pd.isnull(row['link'])):  \n",
        "      prices.append(get_prices(row['link']\n",
        "                              .encode('ascii', 'ignore')\n",
        "                              .decode(\"utf-8\"), index))\n",
        "\n",
        "  prices = pd.concat(prices)\n",
        "  restaurantes = pd.concat([restaurantes, prices], axis = 1)\n",
        "  \n",
        "  return restaurantes\n",
        "\n",
        " \n"
      ],
      "execution_count": 9,
      "outputs": [
        {
          "output_type": "stream",
          "name": "stdout",
          "text": [
            "HTTPError on restaurant id: 94afa23e-2200-4c9a-a769-c819850744e4\n"
          ]
        }
      ]
    },
    {
      "cell_type": "code",
      "metadata": {
        "id": "ryuEkS4Awt1Q"
      },
      "source": [
        "latitude = '-1.3735'\n",
        "longitude = '-48.4496'\n",
        "\n",
        "restlist = get_ifood(latitude, longitude)"
      ],
      "execution_count": null,
      "outputs": []
    },
    {
      "cell_type": "code",
      "metadata": {
        "id": "7oUJ2e2VuDsT"
      },
      "source": [
        "restlist.to_excel('restlist.xlsx')"
      ],
      "execution_count": 13,
      "outputs": []
    },
    {
      "cell_type": "code",
      "metadata": {
        "id": "q_iVhZ_Gj6e1"
      },
      "source": [
        "restlist[(restlist['type'] == 'Hambúrguer') | (restlist['type'] == 'Lanches')].to_excel('borgar.xlsx')"
      ],
      "execution_count": 11,
      "outputs": []
    },
    {
      "cell_type": "code",
      "metadata": {
        "id": "A8ZmPNNlUHxP"
      },
      "source": [
        ""
      ],
      "execution_count": null,
      "outputs": []
    }
  ]
}
